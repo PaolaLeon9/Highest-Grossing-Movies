{
 "cells": [
  {
   "cell_type": "markdown",
   "metadata": {},
   "source": [
    "# Kaggle: Highest Grossing Movies|"
   ]
  },
  {
   "cell_type": "markdown",
   "metadata": {},
   "source": [
    "Este conjunto de datos se obtuvo de la plataforma [Kaggle](https://www.kaggle.com/sanjeetsinghnaik/top-1000-highest-grossing-movies), contiene información sobre las 1000 películas más taquilleras de Hollywood actualizada al 10 de Enero de 2022. \n",
    "Esta inflormación pretende ilustrar algunas de las técnicas que se aplican en análisis de datos. "
   ]
  },
  {
   "cell_type": "markdown",
   "metadata": {},
   "source": [
    "### Análisis exploratorio de Datos"
   ]
  },
  {
   "cell_type": "markdown",
   "metadata": {},
   "source": [
    "#### Inspección de datos"
   ]
  },
  {
   "cell_type": "markdown",
   "metadata": {},
   "source": [
    "Se cargaron los datos en la variable `movies`. "
   ]
  },
  {
   "cell_type": "code",
   "execution_count": 1,
   "metadata": {},
   "outputs": [],
   "source": [
    "import pandas as pd "
   ]
  },
  {
   "cell_type": "code",
   "execution_count": 2,
   "metadata": {},
   "outputs": [
    {
     "name": "stdout",
     "output_type": "stream",
     "text": [
      "                                               Title  \\\n",
      "0  Star Wars: Episode VII - The Force Awakens (2015)   \n",
      "1                           Avengers: Endgame (2019)   \n",
      "2                                      Avatar (2009)   \n",
      "3                               Black Panther (2018)   \n",
      "4                      Avengers: Infinity War (2018)   \n",
      "\n",
      "                                          Movie Info  \\\n",
      "0  As a new threat to the galaxy rises, Rey, a de...   \n",
      "1  After the devastating events of Avengers: Infi...   \n",
      "2  A paraplegic Marine dispatched to the moon Pan...   \n",
      "3  T'Challa, heir to the hidden but advanced king...   \n",
      "4  The Avengers and their allies must be willing ...   \n",
      "\n",
      "                           Distributor       Release Date  \\\n",
      "0  Walt Disney Studios Motion Pictures  December 16, 2015   \n",
      "1  Walt Disney Studios Motion Pictures     April 24, 2019   \n",
      "2                Twentieth Century Fox  December 16, 2009   \n",
      "3  Walt Disney Studios Motion Pictures                NaN   \n",
      "4  Walt Disney Studios Motion Pictures                NaN   \n",
      "\n",
      "   Domestic Sales (in $)  International Sales (in $)  World Sales (in $)  \\\n",
      "0              936662225                  1132859475          2069521700   \n",
      "1              858373000                  1939128328          2797501328   \n",
      "2              760507625                  2086738578          2847246203   \n",
      "3              700426566                   647171407          1347597973   \n",
      "4              678815482                  1369544272          2048359754   \n",
      "\n",
      "                                          Genre Movie Runtime License  \n",
      "0             ['Action', 'Adventure', 'Sci-Fi']   2 hr 18 min   PG-13  \n",
      "1    ['Action', 'Adventure', 'Drama', 'Sci-Fi']    3 hr 1 min   PG-13  \n",
      "2  ['Action', 'Adventure', 'Fantasy', 'Sci-Fi']   2 hr 42 min   PG-13  \n",
      "3             ['Action', 'Adventure', 'Sci-Fi']   2 hr 14 min     NaN  \n",
      "4             ['Action', 'Adventure', 'Sci-Fi']   2 hr 29 min     NaN  \n"
     ]
    }
   ],
   "source": [
    "movies = pd.read_csv('Highest Holywood Grossing Movies.csv', index_col=[0])\n",
    "print(movies.head())"
   ]
  },
  {
   "cell_type": "markdown",
   "metadata": {},
   "source": [
    "#### Limpieza de datos"
   ]
  },
  {
   "cell_type": "markdown",
   "metadata": {},
   "source": [
    "Se renombraron las columnas con nombres cómodos y adecuados para variables. "
   ]
  },
  {
   "cell_type": "code",
   "execution_count": 3,
   "metadata": {},
   "outputs": [
    {
     "name": "stdout",
     "output_type": "stream",
     "text": [
      "Index(['title', 'movie_info', 'distributor', 'release_date', 'domestic_sales',\n",
      "       'international_sales', 'world_sales', 'genre', 'movie_runtime',\n",
      "       'license'],\n",
      "      dtype='object')\n"
     ]
    }
   ],
   "source": [
    "column_names = movies.columns \n",
    "column_names = [i.lower().replace(' ', '_').replace('_(in_$)', '') for i in column_names]\n",
    "movies.columns=column_names\n",
    "print(movies.columns)"
   ]
  },
  {
   "cell_type": "markdown",
   "metadata": {},
   "source": [
    "#### Resumen estadístico"
   ]
  },
  {
   "cell_type": "markdown",
   "metadata": {},
   "source": [
    "La función `describe` se utiliza para revisar los datos más cuidadosamente. Al utilizarlo, vemos la algunas estadísticas para las columnas `domestic_sales`, `international_sales` y `world_sales`, que son las que guardan valores numéricos. "
   ]
  },
  {
   "cell_type": "code",
   "execution_count": 4,
   "metadata": {
    "scrolled": true
   },
   "outputs": [
    {
     "data": {
      "text/html": [
       "<div>\n",
       "<style scoped>\n",
       "    .dataframe tbody tr th:only-of-type {\n",
       "        vertical-align: middle;\n",
       "    }\n",
       "\n",
       "    .dataframe tbody tr th {\n",
       "        vertical-align: top;\n",
       "    }\n",
       "\n",
       "    .dataframe thead th {\n",
       "        text-align: right;\n",
       "    }\n",
       "</style>\n",
       "<table border=\"1\" class=\"dataframe\">\n",
       "  <thead>\n",
       "    <tr style=\"text-align: right;\">\n",
       "      <th></th>\n",
       "      <th>title</th>\n",
       "      <th>movie_info</th>\n",
       "      <th>distributor</th>\n",
       "      <th>release_date</th>\n",
       "      <th>domestic_sales</th>\n",
       "      <th>international_sales</th>\n",
       "      <th>world_sales</th>\n",
       "      <th>genre</th>\n",
       "      <th>movie_runtime</th>\n",
       "      <th>license</th>\n",
       "    </tr>\n",
       "  </thead>\n",
       "  <tbody>\n",
       "    <tr>\n",
       "      <th>count</th>\n",
       "      <td>918</td>\n",
       "      <td>918</td>\n",
       "      <td>918</td>\n",
       "      <td>800</td>\n",
       "      <td>9.180000e+02</td>\n",
       "      <td>9.180000e+02</td>\n",
       "      <td>9.180000e+02</td>\n",
       "      <td>918</td>\n",
       "      <td>918</td>\n",
       "      <td>744</td>\n",
       "    </tr>\n",
       "    <tr>\n",
       "      <th>unique</th>\n",
       "      <td>918</td>\n",
       "      <td>918</td>\n",
       "      <td>34</td>\n",
       "      <td>740</td>\n",
       "      <td>NaN</td>\n",
       "      <td>NaN</td>\n",
       "      <td>NaN</td>\n",
       "      <td>309</td>\n",
       "      <td>101</td>\n",
       "      <td>4</td>\n",
       "    </tr>\n",
       "    <tr>\n",
       "      <th>top</th>\n",
       "      <td>Michael (1996)</td>\n",
       "      <td>Journalist Mikael Blomkvist is aided in his se...</td>\n",
       "      <td>Warner Bros.</td>\n",
       "      <td>November 19, 1999</td>\n",
       "      <td>NaN</td>\n",
       "      <td>NaN</td>\n",
       "      <td>NaN</td>\n",
       "      <td>['Action', 'Adventure', 'Sci-Fi']</td>\n",
       "      <td>1 hr 55 min</td>\n",
       "      <td>PG-13</td>\n",
       "    </tr>\n",
       "    <tr>\n",
       "      <th>freq</th>\n",
       "      <td>1</td>\n",
       "      <td>1</td>\n",
       "      <td>158</td>\n",
       "      <td>3</td>\n",
       "      <td>NaN</td>\n",
       "      <td>NaN</td>\n",
       "      <td>NaN</td>\n",
       "      <td>56</td>\n",
       "      <td>24</td>\n",
       "      <td>363</td>\n",
       "    </tr>\n",
       "    <tr>\n",
       "      <th>mean</th>\n",
       "      <td>NaN</td>\n",
       "      <td>NaN</td>\n",
       "      <td>NaN</td>\n",
       "      <td>NaN</td>\n",
       "      <td>1.677469e+08</td>\n",
       "      <td>2.301434e+08</td>\n",
       "      <td>3.968668e+08</td>\n",
       "      <td>NaN</td>\n",
       "      <td>NaN</td>\n",
       "      <td>NaN</td>\n",
       "    </tr>\n",
       "    <tr>\n",
       "      <th>std</th>\n",
       "      <td>NaN</td>\n",
       "      <td>NaN</td>\n",
       "      <td>NaN</td>\n",
       "      <td>NaN</td>\n",
       "      <td>1.040360e+08</td>\n",
       "      <td>2.176011e+08</td>\n",
       "      <td>3.082629e+08</td>\n",
       "      <td>NaN</td>\n",
       "      <td>NaN</td>\n",
       "      <td>NaN</td>\n",
       "    </tr>\n",
       "    <tr>\n",
       "      <th>min</th>\n",
       "      <td>NaN</td>\n",
       "      <td>NaN</td>\n",
       "      <td>NaN</td>\n",
       "      <td>NaN</td>\n",
       "      <td>8.036084e+07</td>\n",
       "      <td>2.600000e+02</td>\n",
       "      <td>8.160000e+07</td>\n",
       "      <td>NaN</td>\n",
       "      <td>NaN</td>\n",
       "      <td>NaN</td>\n",
       "    </tr>\n",
       "    <tr>\n",
       "      <th>25%</th>\n",
       "      <td>NaN</td>\n",
       "      <td>NaN</td>\n",
       "      <td>NaN</td>\n",
       "      <td>NaN</td>\n",
       "      <td>1.016071e+08</td>\n",
       "      <td>8.845620e+07</td>\n",
       "      <td>2.005564e+08</td>\n",
       "      <td>NaN</td>\n",
       "      <td>NaN</td>\n",
       "      <td>NaN</td>\n",
       "    </tr>\n",
       "    <tr>\n",
       "      <th>50%</th>\n",
       "      <td>NaN</td>\n",
       "      <td>NaN</td>\n",
       "      <td>NaN</td>\n",
       "      <td>NaN</td>\n",
       "      <td>1.321351e+08</td>\n",
       "      <td>1.638819e+08</td>\n",
       "      <td>3.019416e+08</td>\n",
       "      <td>NaN</td>\n",
       "      <td>NaN</td>\n",
       "      <td>NaN</td>\n",
       "    </tr>\n",
       "    <tr>\n",
       "      <th>75%</th>\n",
       "      <td>NaN</td>\n",
       "      <td>NaN</td>\n",
       "      <td>NaN</td>\n",
       "      <td>NaN</td>\n",
       "      <td>1.913905e+08</td>\n",
       "      <td>2.885577e+08</td>\n",
       "      <td>4.750718e+08</td>\n",
       "      <td>NaN</td>\n",
       "      <td>NaN</td>\n",
       "      <td>NaN</td>\n",
       "    </tr>\n",
       "    <tr>\n",
       "      <th>max</th>\n",
       "      <td>NaN</td>\n",
       "      <td>NaN</td>\n",
       "      <td>NaN</td>\n",
       "      <td>NaN</td>\n",
       "      <td>9.366622e+08</td>\n",
       "      <td>2.086739e+09</td>\n",
       "      <td>2.847246e+09</td>\n",
       "      <td>NaN</td>\n",
       "      <td>NaN</td>\n",
       "      <td>NaN</td>\n",
       "    </tr>\n",
       "  </tbody>\n",
       "</table>\n",
       "</div>"
      ],
      "text/plain": [
       "                 title                                         movie_info  \\\n",
       "count              918                                                918   \n",
       "unique             918                                                918   \n",
       "top     Michael (1996)  Journalist Mikael Blomkvist is aided in his se...   \n",
       "freq                 1                                                  1   \n",
       "mean               NaN                                                NaN   \n",
       "std                NaN                                                NaN   \n",
       "min                NaN                                                NaN   \n",
       "25%                NaN                                                NaN   \n",
       "50%                NaN                                                NaN   \n",
       "75%                NaN                                                NaN   \n",
       "max                NaN                                                NaN   \n",
       "\n",
       "         distributor       release_date  domestic_sales  international_sales  \\\n",
       "count            918                800    9.180000e+02         9.180000e+02   \n",
       "unique            34                740             NaN                  NaN   \n",
       "top     Warner Bros.  November 19, 1999             NaN                  NaN   \n",
       "freq             158                  3             NaN                  NaN   \n",
       "mean             NaN                NaN    1.677469e+08         2.301434e+08   \n",
       "std              NaN                NaN    1.040360e+08         2.176011e+08   \n",
       "min              NaN                NaN    8.036084e+07         2.600000e+02   \n",
       "25%              NaN                NaN    1.016071e+08         8.845620e+07   \n",
       "50%              NaN                NaN    1.321351e+08         1.638819e+08   \n",
       "75%              NaN                NaN    1.913905e+08         2.885577e+08   \n",
       "max              NaN                NaN    9.366622e+08         2.086739e+09   \n",
       "\n",
       "         world_sales                              genre movie_runtime license  \n",
       "count   9.180000e+02                                918           918     744  \n",
       "unique           NaN                                309           101       4  \n",
       "top              NaN  ['Action', 'Adventure', 'Sci-Fi']   1 hr 55 min   PG-13  \n",
       "freq             NaN                                 56            24     363  \n",
       "mean    3.968668e+08                                NaN           NaN     NaN  \n",
       "std     3.082629e+08                                NaN           NaN     NaN  \n",
       "min     8.160000e+07                                NaN           NaN     NaN  \n",
       "25%     2.005564e+08                                NaN           NaN     NaN  \n",
       "50%     3.019416e+08                                NaN           NaN     NaN  \n",
       "75%     4.750718e+08                                NaN           NaN     NaN  \n",
       "max     2.847246e+09                                NaN           NaN     NaN  "
      ]
     },
     "execution_count": 4,
     "metadata": {},
     "output_type": "execute_result"
    }
   ],
   "source": [
    "movies.describe(include='all')"
   ]
  },
  {
   "cell_type": "markdown",
   "metadata": {},
   "source": [
    "Ahora, se visualiza la cantidad de objetos null."
   ]
  },
  {
   "cell_type": "code",
   "execution_count": 5,
   "metadata": {},
   "outputs": [
    {
     "name": "stdout",
     "output_type": "stream",
     "text": [
      "<class 'pandas.core.frame.DataFrame'>\n",
      "Int64Index: 918 entries, 0 to 917\n",
      "Data columns (total 10 columns):\n",
      "title                  918 non-null object\n",
      "movie_info             918 non-null object\n",
      "distributor            918 non-null object\n",
      "release_date           800 non-null object\n",
      "domestic_sales         918 non-null int64\n",
      "international_sales    918 non-null int64\n",
      "world_sales            918 non-null int64\n",
      "genre                  918 non-null object\n",
      "movie_runtime          918 non-null object\n",
      "license                744 non-null object\n",
      "dtypes: int64(3), object(7)\n",
      "memory usage: 78.9+ KB\n",
      "None\n"
     ]
    }
   ],
   "source": [
    "print(movies.info())"
   ]
  },
  {
   "cell_type": "markdown",
   "metadata": {},
   "source": [
    "#### Visualización de los datos"
   ]
  },
  {
   "cell_type": "code",
   "execution_count": 6,
   "metadata": {},
   "outputs": [],
   "source": [
    "import warnings\n",
    "warnings.filterwarnings('ignore')"
   ]
  },
  {
   "cell_type": "code",
   "execution_count": 7,
   "metadata": {},
   "outputs": [],
   "source": [
    "import numpy as np \n",
    "import seaborn as sns \n",
    "import matplotlib.pyplot as plt"
   ]
  },
  {
   "cell_type": "markdown",
   "metadata": {},
   "source": [
    "En la siguiente gráfica notamos que la compañía distribuidora con más películas taquilleras es Warner Bros, seguido de Walt Disney Studios Motion Pictures y en tercer lugar Universal Pictures. "
   ]
  },
  {
   "cell_type": "code",
   "execution_count": 8,
   "metadata": {},
   "outputs": [
    {
     "data": {
      "image/png": "[encoded data removed]",
      "text/plain": [
       "<Figure size 720x504 with 1 Axes>"
      ]
     },
     "metadata": {
      "needs_background": "light"
     },
     "output_type": "display_data"
    }
   ],
   "source": [
    "plt.figure(figsize=(10, 7))\n",
    "sns.countplot(y = 'distributor', data=movies, order=movies.distributor.value_counts(ascending=False).index)\n",
    "plt.title('Cantidad de películas por distribuidor cinematográgico')\n",
    "plt.show()"
   ]
  },
  {
   "cell_type": "markdown",
   "metadata": {},
   "source": [
    "Para observar los años con películas más taquilleras, deberemos extraer el año de la columna `release_date`. \n",
    "Primero se borran los renglones con valores null de la columna `release_date` y se guarda el DataFrame con toda la información de las películas en un nuevo DataFrame `movies1`.\n",
    "Inspeccionando este gráfico, se puede observar que el año con más películas taquilleras fue el 2014, seguido del 2013 y luego el 2010. Mientras que el 2021 está entre los años con menos películas taquilleras. "
   ]
  },
  {
   "cell_type": "code",
   "execution_count": 9,
   "metadata": {},
   "outputs": [
    {
     "data": {
      "text/plain": [
       "<Figure size 432x288 with 0 Axes>"
      ]
     },
     "metadata": {},
     "output_type": "display_data"
    },
    {
     "data": {
      "image/png": "[encoded data removed]",
      "text/plain": [
       "<Figure size 792x648 with 1 Axes>"
      ]
     },
     "metadata": {
      "needs_background": "light"
     },
     "output_type": "display_data"
    }
   ],
   "source": [
    "movies1 = movies.dropna(subset=['release_date'])\n",
    "movies1['release_year'] = movies1.release_date.apply(lambda x: x.split(', ')[-1])\n",
    "\n",
    "plt.clf()\n",
    "plt.figure(figsize=(11, 9))\n",
    "sns.countplot(y='release_year', data=movies1, order=movies1.release_year.value_counts(ascending=False).index)\n",
    "plt.show()"
   ]
  },
  {
   "cell_type": "code",
   "execution_count": 10,
   "metadata": {},
   "outputs": [
    {
     "name": "stdout",
     "output_type": "stream",
     "text": [
      "1972 2021\n"
     ]
    }
   ],
   "source": [
    "print(min(movies1['release_year']), max(movies1['release_year']))\n"
   ]
  },
  {
   "cell_type": "markdown",
   "metadata": {},
   "source": [
    "Si se agrupan los datos por compañía distribuidora y se calcula el promedio de ventas locales, internacionales y mundiales (`domestic_sales`, `international_sales` y `world_sales`), se puede conocer la cantidad promedio de dólares recaudados por cada categoría entre 1972 y 2021. "
   ]
  },
  {
   "cell_type": "code",
   "execution_count": 11,
   "metadata": {},
   "outputs": [
    {
     "name": "stdout",
     "output_type": "stream",
     "text": [
      "             distributor  domestic_sales  international_sales   world_sales\n",
      "0   20th Century Studios    1.216266e+08         2.098772e+08  3.315038e+08\n",
      "1  Artisan Entertainment    1.405391e+08         1.081000e+08  2.486391e+08\n",
      "2      Columbia Pictures    1.366125e+08         9.720275e+07  1.963157e+08\n",
      "3        Dimension Films    9.883934e+07         7.587568e+07  1.747150e+08\n",
      "4             DreamWorks    1.924073e+08         3.034487e+08  4.958560e+08\n"
     ]
    }
   ],
   "source": [
    "df1 = movies.groupby('distributor').domestic_sales.mean().reset_index()\n",
    "df2 = movies.groupby('distributor').international_sales.mean().reset_index()\n",
    "df3 = movies.groupby('distributor').world_sales.mean().reset_index()\n",
    "distributors_sales = pd.merge(df1, pd.merge(df2,df3, how='outer'), how='outer')\n",
    "print(distributors_sales.head())"
   ]
  },
  {
   "cell_type": "markdown",
   "metadata": {},
   "source": [
    "La función count() permite saber la cantidad de datos que tenemos por renglón en cada columna del DataFrame `distributors_sales`."
   ]
  },
  {
   "cell_type": "code",
   "execution_count": 12,
   "metadata": {
    "scrolled": true
   },
   "outputs": [
    {
     "data": {
      "text/plain": [
       "distributor            34\n",
       "domestic_sales         34\n",
       "international_sales    34\n",
       "world_sales            34\n",
       "dtype: int64"
      ]
     },
     "execution_count": 12,
     "metadata": {},
     "output_type": "execute_result"
    }
   ],
   "source": [
    "distributors_sales.count()"
   ]
  },
  {
   "cell_type": "markdown",
   "metadata": {},
   "source": [
    "A continuación, se hace un gráfico de barras lado a lado para comparar las ventas promedio de cada distribuidor cinematográfico en los diferentes alcances: local, internacional y mundial. "
   ]
  },
  {
   "cell_type": "code",
   "execution_count": 13,
   "metadata": {},
   "outputs": [
    {
     "data": {
      "text/plain": [
       "<Figure size 432x288 with 0 Axes>"
      ]
     },
     "metadata": {},
     "output_type": "display_data"
    },
    {
     "data": {
      "image/png": "[encoded data removed]",
      "text/plain": [
       "<Figure size 1080x648 with 1 Axes>"
      ]
     },
     "metadata": {
      "needs_background": "light"
     },
     "output_type": "display_data"
    }
   ],
   "source": [
    "plt.clf()\n",
    "n=1\n",
    "t=3\n",
    "d=34\n",
    "w=0.8\n",
    "\n",
    "x_values1=[t*element+w*n for element in range(d)]\n",
    "\n",
    "n=2\n",
    "\n",
    "x_values2=[t*element+w*n for element in range(d)]\n",
    "\n",
    "n=3\n",
    "\n",
    "x_values3=[t*element+w*n for element in range(d)]\n",
    "\n",
    "plt.figure(figsize=(15,9))\n",
    "ax=plt.subplot()\n",
    "#yerr = distributors_sales.domestic_sales.std()\n",
    "plt.bar(x_values1, distributors_sales.domestic_sales)#, yerr=yerr, capsize=2)\n",
    "#yerr = distributors_sales.international_sales.std()\n",
    "plt.bar(x_values2, distributors_sales.international_sales)#, yerr=yerr, capsize=2)\n",
    "#yerr = distributors_sales.world_sales\n",
    "plt.bar(x_values3, distributors_sales.world_sales)#, yerr=yerr, capsize=2)\n",
    "ax.set_xticks(x_values2)\n",
    "ax.set_xticklabels(distributors_sales.distributor, rotation=90)\n",
    "plt.legend(['Ventas locales', 'Ventas Internationales', 'Ventas Mundiales'])\n",
    "plt.xlabel('Distribuidor Cinematográfico')\n",
    "plt.ylabel('Ventas en dólares')\n",
    "plt.title('Ventas')\n",
    "plt.show()"
   ]
  },
  {
   "cell_type": "markdown",
   "metadata": {},
   "source": [
    "La gráfica anterior permite observar que en promedio, el distribuidor cinematográfico con más ventas mundiales es Newmarket Films a pesar de que Warner Bross es la que tiene las peliculas más taquilleras. Es decir, aunque Newmarket Films tiene muy pocas películas taquilleras, es el que, en promedio, ha recaudado más dinero. "
   ]
  },
  {
   "cell_type": "markdown",
   "metadata": {},
   "source": [
    "### ML: Clasificación "
   ]
  },
  {
   "cell_type": "markdown",
   "metadata": {},
   "source": [
    "Se quiere saber si la duración de la película está directamente relacionado con las ventas mundiales obtenidas. \n",
    "Para ello, se eligió el algoritmo de machine learning K-Nearest Neighbors en el que los datos de interés son las columnas `movie_runtime` y la segunda `world_sales`. \n",
    "\n",
    "Primero, se convierten los datos de la columna `movie_runtime` al total de minutos de duración de la película y se guarda en la variable `movie_runtime_minutes`."
   ]
  },
  {
   "cell_type": "code",
   "execution_count": 14,
   "metadata": {},
   "outputs": [],
   "source": [
    "df_aux = pd.DataFrame()\n",
    "df_aux = movies.apply(lambda row: row.movie_runtime.split(), axis=1)\n",
    "movies['movie_runtime_minutes'] = df_aux.apply(lambda row: \n",
    "                                               float(row[0])*60+float(row[2]) \n",
    "                                               if len(row) == 4 \n",
    "                                               else float(row[0])*60)"
   ]
  },
  {
   "cell_type": "markdown",
   "metadata": {},
   "source": [
    "Después, se clasifica en tres grupos: \n",
    "\n",
    "1 - Películas con buenas ventas. \n",
    "2 - Películas con ventas medias. \n",
    "3 - Películas con ventas malas. \n",
    "\n",
    "Para obtener cada grupo, se restó la menor venta de la mayor y esta cantidad se dividió en tres. De manera que si la cantidad de la variable `world_sales` está entre la mayor venta y la venta media, cae en el grupo 1, si está entre la venta media y la venta mala, cae en el grupo 2 y si es menor que la venta mala, cae en el grupo 3. "
   ]
  },
  {
   "cell_type": "code",
   "execution_count": 15,
   "metadata": {},
   "outputs": [],
   "source": [
    "#Tres clasificaciones: buena, media, mala.\n",
    "good_sales = max(movies.world_sales) - (max(movies.world_sales) - min(movies.world_sales))/3\n",
    "medium_sales = max(movies.world_sales) - 2*(max(movies.world_sales) - min(movies.world_sales))/3\n",
    "bad_sales = min(movies.world_sales)"
   ]
  },
  {
   "cell_type": "code",
   "execution_count": 16,
   "metadata": {},
   "outputs": [],
   "source": [
    "def labels_classification(x):\n",
    "    if x >= good_sales: \n",
    "        return 1\n",
    "    elif x >= medium_sales and x < good_sales: \n",
    "        return 2\n",
    "    elif x >= bad_sales and x < medium_sales: \n",
    "        return 3\n",
    "\n",
    "movies['labels'] = movies.world_sales.apply(lambda row: labels_classification(row))"
   ]
  },
  {
   "cell_type": "markdown",
   "metadata": {},
   "source": [
    "Posteriormente, se normalizaron las dos variables `world_sales` y `movie_runtime_minutes` y se guardaron en las variables `world_sales_norm` y `movie_runtime_minutes_norm`. "
   ]
  },
  {
   "cell_type": "code",
   "execution_count": 17,
   "metadata": {},
   "outputs": [],
   "source": [
    "#Normalización de la columna world_sales\n",
    "min1 = min(movies.world_sales)\n",
    "max1 = max(movies.world_sales)\n",
    "movies['world_sales_norm'] = movies.apply(lambda row: (row.world_sales-min1)/(max1-min1), axis=1)\n",
    "\n",
    "#Normalización de la columna movie_runtime_minutes\n",
    "min1 = min(movies.movie_runtime_minutes)\n",
    "max1 = max(movies.movie_runtime_minutes)\n",
    "movies['movie_runtime_minutes_norm'] = movies.apply(lambda row: (row.movie_runtime_minutes - min1)/(max1-min1), axis=1)\n"
   ]
  },
  {
   "cell_type": "markdown",
   "metadata": {},
   "source": [
    "Finalmente, se dividen los datos en datos de entrenamiento y de validación. Con lo que se obtuvo un porcentaje de validez del modelo de 99%. "
   ]
  },
  {
   "cell_type": "code",
   "execution_count": 18,
   "metadata": {},
   "outputs": [],
   "source": [
    "from sklearn.neighbors import KNeighborsClassifier \n",
    "from sklearn.model_selection import train_test_split"
   ]
  },
  {
   "cell_type": "code",
   "execution_count": 19,
   "metadata": {},
   "outputs": [
    {
     "name": "stdout",
     "output_type": "stream",
     "text": [
      "0.9945652173913043\n"
     ]
    }
   ],
   "source": [
    "training_data, validation_data, training_labels, validation_labels = train_test_split(\n",
    "    movies[['world_sales_norm', 'movie_runtime_minutes_norm']],\n",
    "    movies.labels, \n",
    "    test_size=0.2, \n",
    "    random_state = 50\n",
    ")\n",
    "\n",
    "classifier = KNeighborsClassifier(n_neighbors=3)\n",
    "classifier.fit(training_data, training_labels)\n",
    "print(classifier.score(validation_data, validation_labels))"
   ]
  },
  {
   "cell_type": "markdown",
   "metadata": {},
   "source": [
    "Ahora que se sabe que la duración de la película está directamente relacionada con las ventas, se pueden observar también los géneros de las películas del grupo 1, de manera que esos géneros combinados con la duración de estás películas, generarán buenas ventas. "
   ]
  },
  {
   "cell_type": "code",
   "execution_count": 20,
   "metadata": {},
   "outputs": [
    {
     "name": "stdout",
     "output_type": "stream",
     "text": [
      "                                          genre  movie_runtime_minutes\n",
      "0             ['Action', 'Adventure', 'Sci-Fi']                  138.0\n",
      "1    ['Action', 'Adventure', 'Drama', 'Sci-Fi']                  181.0\n",
      "2  ['Action', 'Adventure', 'Fantasy', 'Sci-Fi']                  162.0\n",
      "4             ['Action', 'Adventure', 'Sci-Fi']                  149.0\n",
      "6                          ['Drama', 'Romance']                  194.0\n"
     ]
    }
   ],
   "source": [
    "print(movies[movies.labels==1][['genre', 'movie_runtime_minutes']])"
   ]
  },
  {
   "cell_type": "markdown",
   "metadata": {},
   "source": [
    "### Conclusión "
   ]
  },
  {
   "cell_type": "markdown",
   "metadata": {},
   "source": [
    "Se observó que entre los años 1972 y 2021, la compañía cinematográfica con más películas es Warner Bros., el año en que hubo más películas taquilleras fue el 2014 y la compañía con más ventas mundiales fue Newmarket Films. \n",
    "\n",
    "Con el algoritmo de clasificación, se observó que el tiempo de duración de la película y las ventas están relacionados entre sí, por lo que al revisar los géneros de las películas del grupo 1 se concluye que una combinación de estos géneros con la duración correspondiente a este grupo, podría generar buenas ganancias. "
   ]
  }
 ],
 "metadata": {
  "kernelspec": {
   "display_name": "Python 3",
   "language": "python",
   "name": "python3"
  },
  "language_info": {
   "codemirror_mode": {
    "name": "ipython",
    "version": 3
   },
   "file_extension": ".py",
   "mimetype": "text/x-python",
   "name": "python",
   "nbconvert_exporter": "python",
   "pygments_lexer": "ipython3",
   "version": "3.6.8"
  }
 },
 "nbformat": 4,
 "nbformat_minor": 2
}
